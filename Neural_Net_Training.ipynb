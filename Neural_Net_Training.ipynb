{
 "cells": [
  {
   "cell_type": "code",
   "execution_count": 1,
   "metadata": {
    "_cell_guid": "b1076dfc-b9ad-4769-8c92-a6c4dae69d19",
    "_uuid": "8f2839f25d086af736a60e9eeb907d3b93b6e0e5"
   },
   "outputs": [
    {
     "name": "stdout",
     "output_type": "stream",
     "text": [
      "/kaggle/input/advancev11/molnn_advance_v1.1.h5\n",
      "/kaggle/input/molnn-basic-weights/molnn_basic.h5\n",
      "/kaggle/input/molecular-properties/dataset.csv\n",
      "/kaggle/input/molnnadd/molnn_advance_v1.1-2.h5\n",
      "/kaggle/input/molnn-advance/molnn_advance_v1.h5\n"
     ]
    }
   ],
   "source": [
    "# This Python 3 environment comes with many helpful analytics libraries installed\n",
    "# It is defined by the kaggle/python docker image: https://github.com/kaggle/docker-python\n",
    "# For example, here's several helpful packages to load in \n",
    "\n",
    "import numpy as np # linear algebra\n",
    "import pandas as pd # data processing, CSV file I/O (e.g. pd.read_csv)\n",
    "import matplotlib.pyplot as plt\n",
    "from sklearn.model_selection import train_test_split\n",
    "# Input data files are available in the \"../input/\" directory.\n",
    "# For example, running this (by clicking run or pressing Shift+Enter) will list all files under the input directory\n",
    "\n",
    "import os\n",
    "for dirname, _, filenames in os.walk('/kaggle/input'):\n",
    "    for filename in filenames:\n",
    "        print(os.path.join(dirname, filename))\n",
    "\n",
    "# Any results you write to the current directory are saved as output."
   ]
  },
  {
   "cell_type": "code",
   "execution_count": 2,
   "metadata": {
    "_cell_guid": "79c7e3d0-c299-4dcb-8224-4455121ee9b0",
    "_uuid": "d629ff2d2480ee46fbb7e2d37f6b5fab8052498a"
   },
   "outputs": [],
   "source": [
    "experiments = []"
   ]
  },
  {
   "cell_type": "code",
   "execution_count": 3,
   "metadata": {},
   "outputs": [
    {
     "data": {
      "text/html": [
       "<div>\n",
       "<style scoped>\n",
       "    .dataframe tbody tr th:only-of-type {\n",
       "        vertical-align: middle;\n",
       "    }\n",
       "\n",
       "    .dataframe tbody tr th {\n",
       "        vertical-align: top;\n",
       "    }\n",
       "\n",
       "    .dataframe thead th {\n",
       "        text-align: right;\n",
       "    }\n",
       "</style>\n",
       "<table border=\"1\" class=\"dataframe\">\n",
       "  <thead>\n",
       "    <tr style=\"text-align: right;\">\n",
       "      <th></th>\n",
       "      <th>Unnamed: 0</th>\n",
       "      <th>id</th>\n",
       "      <th>molecule_name</th>\n",
       "      <th>atom_index_0</th>\n",
       "      <th>atom_index_1</th>\n",
       "      <th>type</th>\n",
       "      <th>scalar_coupling_constant</th>\n",
       "      <th>mulliken_charge_0</th>\n",
       "      <th>mulliken_charge_1</th>\n",
       "      <th>atom_0</th>\n",
       "      <th>...</th>\n",
       "      <th>YXmag_1</th>\n",
       "      <th>ZXmag_1</th>\n",
       "      <th>XYmag_1</th>\n",
       "      <th>YYmag_1</th>\n",
       "      <th>ZYmag_1</th>\n",
       "      <th>XZmag_1</th>\n",
       "      <th>YZmag_1</th>\n",
       "      <th>ZZmag_1</th>\n",
       "      <th>atom1_0</th>\n",
       "      <th>atom1_1</th>\n",
       "    </tr>\n",
       "  </thead>\n",
       "  <tbody>\n",
       "    <tr>\n",
       "      <th>0</th>\n",
       "      <td>0</td>\n",
       "      <td>0</td>\n",
       "      <td>dsgdb9nsd_000001</td>\n",
       "      <td>1</td>\n",
       "      <td>0</td>\n",
       "      <td>1</td>\n",
       "      <td>84.8076</td>\n",
       "      <td>0.133921</td>\n",
       "      <td>-0.535689</td>\n",
       "      <td>0</td>\n",
       "      <td>...</td>\n",
       "      <td>0.0000</td>\n",
       "      <td>-0.0001</td>\n",
       "      <td>0.0000</td>\n",
       "      <td>195.3171</td>\n",
       "      <td>0.0007</td>\n",
       "      <td>-0.0001</td>\n",
       "      <td>0.0007</td>\n",
       "      <td>195.3169</td>\n",
       "      <td>0</td>\n",
       "      <td>0</td>\n",
       "    </tr>\n",
       "    <tr>\n",
       "      <th>1</th>\n",
       "      <td>1</td>\n",
       "      <td>4</td>\n",
       "      <td>dsgdb9nsd_000001</td>\n",
       "      <td>2</td>\n",
       "      <td>0</td>\n",
       "      <td>1</td>\n",
       "      <td>84.8074</td>\n",
       "      <td>0.133922</td>\n",
       "      <td>-0.535689</td>\n",
       "      <td>0</td>\n",
       "      <td>...</td>\n",
       "      <td>0.0000</td>\n",
       "      <td>-0.0001</td>\n",
       "      <td>0.0000</td>\n",
       "      <td>195.3171</td>\n",
       "      <td>0.0007</td>\n",
       "      <td>-0.0001</td>\n",
       "      <td>0.0007</td>\n",
       "      <td>195.3169</td>\n",
       "      <td>0</td>\n",
       "      <td>0</td>\n",
       "    </tr>\n",
       "    <tr>\n",
       "      <th>2</th>\n",
       "      <td>2</td>\n",
       "      <td>7</td>\n",
       "      <td>dsgdb9nsd_000001</td>\n",
       "      <td>3</td>\n",
       "      <td>0</td>\n",
       "      <td>1</td>\n",
       "      <td>84.8093</td>\n",
       "      <td>0.133923</td>\n",
       "      <td>-0.535689</td>\n",
       "      <td>0</td>\n",
       "      <td>...</td>\n",
       "      <td>0.0000</td>\n",
       "      <td>-0.0001</td>\n",
       "      <td>0.0000</td>\n",
       "      <td>195.3171</td>\n",
       "      <td>0.0007</td>\n",
       "      <td>-0.0001</td>\n",
       "      <td>0.0007</td>\n",
       "      <td>195.3169</td>\n",
       "      <td>0</td>\n",
       "      <td>0</td>\n",
       "    </tr>\n",
       "    <tr>\n",
       "      <th>3</th>\n",
       "      <td>3</td>\n",
       "      <td>9</td>\n",
       "      <td>dsgdb9nsd_000001</td>\n",
       "      <td>4</td>\n",
       "      <td>0</td>\n",
       "      <td>1</td>\n",
       "      <td>84.8095</td>\n",
       "      <td>0.133923</td>\n",
       "      <td>-0.535689</td>\n",
       "      <td>0</td>\n",
       "      <td>...</td>\n",
       "      <td>0.0000</td>\n",
       "      <td>-0.0001</td>\n",
       "      <td>0.0000</td>\n",
       "      <td>195.3171</td>\n",
       "      <td>0.0007</td>\n",
       "      <td>-0.0001</td>\n",
       "      <td>0.0007</td>\n",
       "      <td>195.3169</td>\n",
       "      <td>0</td>\n",
       "      <td>0</td>\n",
       "    </tr>\n",
       "    <tr>\n",
       "      <th>4</th>\n",
       "      <td>4</td>\n",
       "      <td>1</td>\n",
       "      <td>dsgdb9nsd_000001</td>\n",
       "      <td>1</td>\n",
       "      <td>2</td>\n",
       "      <td>0</td>\n",
       "      <td>-11.2570</td>\n",
       "      <td>0.133921</td>\n",
       "      <td>0.133922</td>\n",
       "      <td>0</td>\n",
       "      <td>...</td>\n",
       "      <td>1.2173</td>\n",
       "      <td>-4.1474</td>\n",
       "      <td>1.2173</td>\n",
       "      <td>28.9036</td>\n",
       "      <td>-1.6036</td>\n",
       "      <td>-4.1476</td>\n",
       "      <td>-1.6036</td>\n",
       "      <td>33.8967</td>\n",
       "      <td>1</td>\n",
       "      <td>0</td>\n",
       "    </tr>\n",
       "  </tbody>\n",
       "</table>\n",
       "<p>5 rows × 41 columns</p>\n",
       "</div>"
      ],
      "text/plain": [
       "   Unnamed: 0  id     molecule_name  atom_index_0  atom_index_1  type  \\\n",
       "0           0   0  dsgdb9nsd_000001             1             0     1   \n",
       "1           1   4  dsgdb9nsd_000001             2             0     1   \n",
       "2           2   7  dsgdb9nsd_000001             3             0     1   \n",
       "3           3   9  dsgdb9nsd_000001             4             0     1   \n",
       "4           4   1  dsgdb9nsd_000001             1             2     0   \n",
       "\n",
       "   scalar_coupling_constant  mulliken_charge_0  mulliken_charge_1  atom_0  \\\n",
       "0                   84.8076           0.133921          -0.535689       0   \n",
       "1                   84.8074           0.133922          -0.535689       0   \n",
       "2                   84.8093           0.133923          -0.535689       0   \n",
       "3                   84.8095           0.133923          -0.535689       0   \n",
       "4                  -11.2570           0.133921           0.133922       0   \n",
       "\n",
       "   ...  YXmag_1  ZXmag_1  XYmag_1   YYmag_1  ZYmag_1  XZmag_1  YZmag_1  \\\n",
       "0  ...   0.0000  -0.0001   0.0000  195.3171   0.0007  -0.0001   0.0007   \n",
       "1  ...   0.0000  -0.0001   0.0000  195.3171   0.0007  -0.0001   0.0007   \n",
       "2  ...   0.0000  -0.0001   0.0000  195.3171   0.0007  -0.0001   0.0007   \n",
       "3  ...   0.0000  -0.0001   0.0000  195.3171   0.0007  -0.0001   0.0007   \n",
       "4  ...   1.2173  -4.1474   1.2173   28.9036  -1.6036  -4.1476  -1.6036   \n",
       "\n",
       "    ZZmag_1  atom1_0  atom1_1  \n",
       "0  195.3169        0        0  \n",
       "1  195.3169        0        0  \n",
       "2  195.3169        0        0  \n",
       "3  195.3169        0        0  \n",
       "4   33.8967        1        0  \n",
       "\n",
       "[5 rows x 41 columns]"
      ]
     },
     "execution_count": 3,
     "metadata": {},
     "output_type": "execute_result"
    }
   ],
   "source": [
    "df = pd.read_csv('/kaggle/input/molecular-properties/dataset.csv')\n",
    "df.head()"
   ]
  },
  {
   "cell_type": "code",
   "execution_count": 4,
   "metadata": {},
   "outputs": [
    {
     "name": "stdout",
     "output_type": "stream",
     "text": [
      "Traget_Variable: scalar_coupling_constant\n",
      "Independent Variables: Index(['atom_index_0', 'atom_index_1', 'type', 'mulliken_charge_0',\n",
      "       'mulliken_charge_1', 'atom_0', 'x_0', 'y_0', 'z_0', 'x_1', 'y_1', 'z_1',\n",
      "       'potential_energy', 'fc', 'sd', 'pso', 'dso', 'XXmag_0', 'YXmag_0',\n",
      "       'ZXmag_0', 'XYmag_0', 'YYmag_0', 'ZYmag_0', 'XZmag_0', 'YZmag_0',\n",
      "       'ZZmag_0', 'XXmag_1', 'YXmag_1', 'ZXmag_1', 'XYmag_1', 'YYmag_1',\n",
      "       'ZYmag_1', 'XZmag_1', 'YZmag_1', 'ZZmag_1', 'atom1_0', 'atom1_1'],\n",
      "      dtype='object')\n"
     ]
    }
   ],
   "source": [
    "y = df.scalar_coupling_constant\n",
    "X = df.iloc[:,3:].drop('scalar_coupling_constant',axis=1)\n",
    "print('Traget_Variable: {}'.format(y.name))\n",
    "print('Independent Variables: {}'.format(X.columns))"
   ]
  },
  {
   "cell_type": "code",
   "execution_count": 5,
   "metadata": {},
   "outputs": [],
   "source": [
    "geometric_features = ['atom_index_0','atom_index_1','type','atom_0','atom1_0','atom1_1']\n"
   ]
  },
  {
   "cell_type": "code",
   "execution_count": 6,
   "metadata": {},
   "outputs": [
    {
     "name": "stdout",
     "output_type": "stream",
     "text": [
      "X_train: (3727260, 37)\n",
      "y_train: (3727260,)\n",
      "X_test: (465908, 37)\n",
      "y_test: (465908,)\n",
      "X_val: (465908, 37)\n",
      "y_val: (465908,)\n"
     ]
    }
   ],
   "source": [
    "# Splitting the Data into Train Test, Test Set and Validation Set\n",
    "X_train,X_test,y_train,y_test = train_test_split(X,y, test_size = 0.2, random_state=234, shuffle = True)\n",
    "X_test,X_val,y_test,y_val = train_test_split(X_test,y_test, test_size = 0.5, random_state =214, shuffle = True)\n",
    "print('X_train: {}'.format(X_train.shape))\n",
    "print('y_train: {}'.format(y_train.shape))\n",
    "print('X_test: {}'.format(X_test.shape))\n",
    "print('y_test: {}'.format(y_test.shape))\n",
    "print('X_val: {}'.format(X_val.shape))\n",
    "print('y_val: {}'.format(y_val.shape))"
   ]
  },
  {
   "cell_type": "code",
   "execution_count": 7,
   "metadata": {},
   "outputs": [],
   "source": [
    "# Deleting unecessary DataFrames\n",
    "del df\n",
    "del X\n",
    "del y"
   ]
  },
  {
   "cell_type": "markdown",
   "metadata": {},
   "source": [
    "# Neural Network Training, Testing & Optimisation"
   ]
  },
  {
   "cell_type": "code",
   "execution_count": 8,
   "metadata": {},
   "outputs": [
    {
     "name": "stderr",
     "output_type": "stream",
     "text": [
      "Using TensorFlow backend.\n"
     ]
    }
   ],
   "source": [
    "import keras\n",
    "from keras.models import Model,load_model,save_model\n",
    "from keras.optimizers import Adam\n",
    "from keras.losses import mean_squared_error\n",
    "from keras.callbacks import ModelCheckpoint, LearningRateScheduler, EarlyStopping, ReduceLROnPlateau\n",
    "from keras.layers import Input, Dense, Dropout\n",
    "from keras import backend as K"
   ]
  },
  {
   "cell_type": "markdown",
   "metadata": {},
   "source": [
    "## 1. Essential Functions for Training\n",
    "\n",
    "This Section consists some essentials function which are used for training and testing purpose throughout this notebook"
   ]
  },
  {
   "cell_type": "code",
   "execution_count": 9,
   "metadata": {},
   "outputs": [],
   "source": [
    "def neural_network_creator(inputs = 0, outputs = 1, hidden_layers = 4, hidden_layer_size = [64,128,64,32],rate=1.0):\n",
    "    \"\"\"\n",
    "    This function creates a Dense Neural network on the basis of provided specifications\n",
    "    \n",
    "    Parameters\n",
    "    ------------------------------------------------------------------------------------\n",
    "    inputs: Size of the Input layer in form of total features\n",
    "    outputs: Size of Output Layer\n",
    "    hidden_layers: No. of hidden layers in the Neural Network\n",
    "    hidden_layer_size: A list consists of size of corresponding hidden neural layer\n",
    "    ------------------------------------------------------------------------------------\n",
    "    \n",
    "    ==========================================\n",
    "    returns a Neural Network Model\n",
    "    ==========================================\n",
    "    \"\"\"\n",
    "    inputs = Input(shape=(inputs,), name='input_layer')\n",
    "    for i in range(hidden_layers):\n",
    "        if i == 0:\n",
    "            x = Dense(hidden_layer_size[i], activation='relu',name='dense_layer_{}'.format(i))(inputs)\n",
    "        else: \n",
    "            x = Dropout(rate,name='Dropout_layer_{}'.format(i))(x)\n",
    "            x = Dense(hidden_layer_size[i], activation='relu',name='dense_layer_{}'.format(i))(x)\n",
    "    \n",
    "    output = Dense(1,activation='linear',name='output_layer')(x)\n",
    "    model = Model(inputs=inputs,outputs=output)\n",
    "    return model"
   ]
  },
  {
   "cell_type": "code",
   "execution_count": 10,
   "metadata": {},
   "outputs": [],
   "source": [
    "def r_square_metric(y_true,y_pred):\n",
    "    SS_res =  K.sum(K.square(y_true-y_pred))\n",
    "    SS_tot = K.sum(K.square(y_true - K.mean(y_true)))\n",
    "    return ( 1 - SS_res/(SS_tot + K.epsilon()))"
   ]
  },
  {
   "cell_type": "code",
   "execution_count": 11,
   "metadata": {},
   "outputs": [],
   "source": [
    "def create_callback(model_name):\n",
    "    model_checkpoint = ModelCheckpoint(model_name,monitor='val_loss', verbose=1, save_best_only=True, save_weights_only=True, mode='auto', period=1)\n",
    "    early = EarlyStopping(monitor=\"val_loss\", mode=\"min\", patience=10,verbose=1)\n",
    "    reduceLR = ReduceLROnPlateau(monitor='val_loss', factor=0.2,patience=5, min_delta=0.0001, cooldown=5, min_lr=0.00001,verbose=1)\n",
    "    return [reduceLR, early, model_checkpoint]\n"
   ]
  },
  {
   "cell_type": "code",
   "execution_count": 12,
   "metadata": {},
   "outputs": [],
   "source": [
    "from sklearn.metrics import r2_score as r2\n",
    "metric_list = [r_square_metric,keras.metrics.mean_squared_error]\n",
    "def train_network(modeldict,lr=0.01,batch_size=128,callbacks = None,metrics = metric_list,\n",
    "                  training_data=[X_train,y_train],test_data=(X_test,y_test),model=None,epoch=40):\n",
    "    \"\"\"\n",
    "    This function either accepts the pre specified model or make the new and return the tuple containing\n",
    "    history object and hyper-parameters info after training and testing the neural network simultaneously.\n",
    "    \n",
    "    Parameters\n",
    "    ----------------------------------------------------------------------------------------------------\n",
    "    modeldict: Dictionary containing the architecture specification of neural network\n",
    "    lr: Learning rate to be used for training NN (int type)\n",
    "    batch_size: Batch Size to be used\n",
    "    callbacks: List of Callabacks to be implemented using training\n",
    "    metrics: List of losses to be used while training\n",
    "    training_data: List of feature vector and target vector to be used for training\n",
    "    test_data: List of feature vector and target vectr to be used for testing\n",
    "    model: Instance of a model, if it is None then the model is created on the basis of modeldict\n",
    "    ----------------------------------------------------------------------------------------------------\n",
    "    \n",
    "    ====================================================================================================\n",
    "    returns a tuple of training history, hyper-parameters\n",
    "    ====================================================================================================\n",
    "    \"\"\"\n",
    "    adam = Adam(lr=lr)\n",
    "    if model == None:\n",
    "        model = neural_network_creator(modeldict['inputs'],modeldict['outputs'],modeldict['hidden_layers'],\n",
    "                                  modeldict['hidden_layer_size'],modeldict['dropout_rate'])\n",
    "        model.compile(optimizer=adam,loss='mean_squared_error',metrics=metrics)\n",
    "    else:\n",
    "        model.compile(optimizer=adam,loss='mean_squared_error',metrics=metrics)\n",
    "        \n",
    "    history = model.fit(x=training_data[0],y=training_data[1],batch_size=batch_size,\n",
    "                       verbose=1,epochs=epoch,callbacks = callbacks,validation_data=test_data)\n",
    "    parameters = {'LayerNum':modeldict['hidden_layers'],'learning_rate':lr,'optimizer':'adam',\n",
    "                  'batch_size':batch_size,'metrices':metrics,'layer_sizes':str(modeldict['hidden_layer_size']),'dropout_rate':modeldict['dropout_rate'] }\n",
    "    \n",
    "    return (history,parameters)"
   ]
  },
  {
   "cell_type": "code",
   "execution_count": 13,
   "metadata": {},
   "outputs": [
    {
     "name": "stdout",
     "output_type": "stream",
     "text": [
      "Train on 3727260 samples, validate on 465908 samples\n",
      "Epoch 1/80\n",
      "3727260/3727260 [==============================] - 124s 33us/step - loss: 1.2827 - r_square_metric: 0.9989 - mean_squared_error: 1.2827 - val_loss: 0.0080 - val_r_square_metric: 1.0000 - val_mean_squared_error: 0.0080\n",
      "\n",
      "Epoch 00001: val_loss improved from inf to 0.00802, saving model to molnn_basic.h5\n",
      "Epoch 2/80\n",
      "3727260/3727260 [==============================] - 119s 32us/step - loss: 0.0849 - r_square_metric: 1.0000 - mean_squared_error: 0.0849 - val_loss: 0.0042 - val_r_square_metric: 1.0000 - val_mean_squared_error: 0.0042\n",
      "\n",
      "Epoch 00002: val_loss improved from 0.00802 to 0.00421, saving model to molnn_basic.h5\n",
      "Epoch 3/80\n",
      "3727260/3727260 [==============================] - 114s 31us/step - loss: 0.0402 - r_square_metric: 1.0000 - mean_squared_error: 0.0402 - val_loss: 1.8510e-04 - val_r_square_metric: 1.0000 - val_mean_squared_error: 1.8510e-04\n",
      "\n",
      "Epoch 00009: val_loss improved from 0.00022 to 0.00019, saving model to molnn_basic.h5\n",
      "Epoch 10/80\n",
      "3727260/3727260 [==============================] - 113s 30us/step - loss: 0.0347 - r_square_metric: 1.0000 - mean_squared_error: 0.0347 - val_loss: 8.8179e-04 - val_r_square_metric: 1.0000 - val_mean_squared_error: 8.8179e-04\n",
      "\n",
      "Epoch 00010: val_loss did not improve from 0.00019\n",
      "Epoch 11/80\n",
      "3727260/3727260 [==============================] - 113s 30us/step - loss: 0.0349 - r_square_metric: 1.0000 - mean_squared_error: 0.0349 - val_loss: 0.0052 - val_r_square_metric: 1.0000 - val_mean_squared_error: 0.0052\n",
      "\n",
      "Epoch 00011: val_loss did not improve from 0.00019\n",
      "Epoch 12/80\n",
      "3727260/3727260 [==============================] - 116s 31us/step - loss: 6.8454e-05 - r_square_metric: 1.0000 - mean_squared_error: 6.8455e-05 - val_loss: 2.9817e-07 - val_r_square_metric: 1.0000 - val_mean_squared_error: 2.9817e-07\n",
      "\n",
      "Epoch 00026: val_loss improved from 0.00000 to 0.00000, saving model to molnn_basic.h5\n",
      "Epoch 27/80\n",
      "3727260/3727260 [==============================] - 118s 32us/step - loss: 4.2195e-06 - r_square_metric: 1.0000 - mean_squared_error: 4.2195e-06 - val_loss: 1.1914e-07 - val_r_square_metric: 1.0000 - val_mean_squared_error: 1.1914e-07\n",
      "\n",
      "Epoch 00039: val_loss improved from 0.00000 to 0.00000, saving model to molnn_basic.h5\n",
      "Epoch 40/80\n",
      "3727260/3727260 [==============================] - 120s 32us/step - loss: 1.1485e-06 - r_square_metric: 1.0000 - mean_squared_error: 1.1485e-06 - val_loss: 1.1903e-07 - val_r_square_metric: 1.0000 - val_mean_squared_error: 1.1903e-07\n",
      "\n",
      "Epoch 00047: val_loss did not improve from 0.00000\n",
      "Epoch 48/80\n",
      "3727260/3727260 [==============================] - 117s 31us/step - loss: 7.7270e-07 - r_square_metric: 1.0000 - mean_squared_error: 7.7270e-07 - val_loss: 7.9939e-08 - val_r_square_metric: 1.0000 - val_mean_squared_error: 7.9939e-08\n",
      "\n",
      "Epoch 00060: val_loss did not improve from 0.00000\n",
      "Epoch 61/80\n",
      "3177216/3727260 [========================>.....] - ETA: 15s - loss: 4.7570e-07 - r_square_metric: 1.0000 - mean_squared_error: 4.7570e-07"
     ]
    }
   ],
   "source": [
    "# MolNet Basic\n",
    "callbacks_list = create_callback('molnn_basic.h5')\n",
    "model_dict_b = {'inputs':37, 'outputs':1, 'hidden_layers': 3, 'hidden_layer_size':[64, 128, 37],'dropout_rate':1.0}\n",
    "stats = train_network(modeldict=model_dict_b,lr=0.01,callbacks=callbacks_list,\n",
    "                      training_data=[X_train.values,y_train.values],test_data=[X_test.values,y_test.values],model=None,epoch=80)"
   ]
  },
  {
   "cell_type": "code",
   "execution_count": 14,
   "metadata": {},
   "outputs": [],
   "source": [
    "def model_performance_visualization(hisob,x1,x2,title='...'):\n",
    "    fig,ax = plt.subplots(1,1,figsize=(6,6))\n",
    "    ax.plot(hisob.history[x1],label=x1)\n",
    "    ax.plot(hisob.history[x2],label=x2)\n",
    "    ax.set_title(title,fontweight=\"bold\")\n",
    "    ax.legend()"
   ]
  },
  {
   "cell_type": "code",
   "execution_count": 15,
   "metadata": {},
   "outputs": [],
   "source": [
    "from sklearn.metrics import mean_squared_error as mse\n",
    "from sklearn.metrics import accuracy_score\n",
    "def regression_metrics(y_pred,y_true,parameters,experiments):\n",
    "    print('R-square: {}'.format(r2(y_true,y_pred)))\n",
    "    parameters['r-square'] = r2(y_true,y_pred)\n",
    "    print('MSE: {}'.format(mse(y_true,y_pred)))\n",
    "    parameters['MSE'] = mse(y_true,y_pred)\n",
    "    if parameters not in experiments:\n",
    "        experiments.append(parameters)"
   ]
  },
  {
   "cell_type": "code",
   "execution_count": 16,
   "metadata": {},
   "outputs": [],
   "source": [
    "import matplotlib as mpl\n",
    "def plot_prediction_truevalue(y_pred,y_true,model_name):\n",
    "    mpl.rcParams['agg.path.chunksize'] = 10000\n",
    "    fig,ax = plt.subplots(1,1)\n",
    "    ax.scatter(y_pred,y_true,marker='o')\n",
    "    ax.set_xlabel('Predicted Values')\n",
    "    ax.set_ylabel('True Values')\n",
    "    ax.set_title(model_name)\n",
    "    plt.show()"
   ]
  },
  {
   "cell_type": "code",
   "execution_count": 17,
   "metadata": {},
   "outputs": [],
   "source": [
    "def test_on_validation(model_path,title,model_dict,stats,X_val):\n",
    "    \n",
    "    model_b = neural_network_creator(model_dict['inputs'],model_dict['outputs'],model_dict['hidden_layers'],\n",
    "                                      model_dict['hidden_layer_size'],model_dict['dropout_rate'])\n",
    "    model_b.load_weights(model_path)\n",
    "\n",
    "    y_val_pred = model_b.predict(X_val)\n",
    "    regression_metrics(y_val_pred, y_val, stats[1],experiments)\n",
    "\n",
    "    plot_prediction_truevalue(y_val_pred,y_val,title)\n",
    "    \n",
    "    return model_b"
   ]
  },
  {
   "cell_type": "code",
   "execution_count": 18,
   "metadata": {},
   "outputs": [],
   "source": [
    "def transfer_learning(model=None,input_size=0,model_dict=None,is_trainable=False,freeze_layer_start = None,prior=False):\n",
    "    model_dict['inputs'] = input_size\n",
    "    i = freeze_layer_start\n",
    "    print(model_dict)\n",
    "    n_model = neural_network_creator(inputs=model_dict['inputs'],outputs= model_dict['outputs'],hidden_layers= model_dict['hidden_layers'],\n",
    "                                      hidden_layer_size = model_dict['hidden_layer_size'],rate = model_dict['dropout_rate'])\n",
    "\n",
    "    # New Model Making and Transfer Learning\n",
    "    for n_layer, layer in zip(n_model.layers[2:], model.layers[2:]):\n",
    "        n_layer.set_weights(layer.get_weights())\n",
    "    \n",
    "    if prior != True:\n",
    "        for layer in n_model.layers[i:-1]:\n",
    "            layer.trainable = is_trainable\n",
    "    else:\n",
    "        for layer in n_model.layers[:i]:\n",
    "            layer.trainable = is_trainable\n",
    "\n",
    "    print(n_model.summary())\n",
    "    \n",
    "    return n_model,model_dict"
   ]
  },
  {
   "cell_type": "markdown",
   "metadata": {},
   "source": [
    "# <hr>"
   ]
  },
  {
   "cell_type": "markdown",
   "metadata": {},
   "source": [
    "## MolNet Basic & Advance"
   ]
  },
  {
   "cell_type": "code",
   "execution_count": 19,
   "metadata": {},
   "outputs": [
    {
     "name": "stdout",
     "output_type": "stream",
     "text": [
      "Train on 3727260 samples, validate on 465908 samples\n",
      "Epoch 1/40\n",
      "3727260/3727260 [==============================] - 159s 43us/step - loss: 54.5224 - r_square_metric: 0.9552 - mean_squared_error: 54.5222 - val_loss: 141.6472 - val_r_square_metric: 0.8842 - val_mean_squared_error: 141.6472\n",
      "\n",
      "Epoch 00001: val_loss improved from inf to 141.64717, saving model to molnn_advance.h5\n",
      "Epoch 2/40\n",
      "3727260/3727260 [==============================] - 158s 42us/step - loss: 19.9132 - r_square_metric: 0.9836 - mean_squared_error: 19.9132 - val_loss: 85.9418 - val_r_square_metric: 0.9299 - val_mean_squared_error: 85.9418\n",
      "\n",
      "Epoch 00002: val_loss improved from 141.64717 to 85.94176, saving model to molnn_advance.h5\n",
      "Epoch 3/40\n",
      "3727260/3727260 [==============================] - 159s 43us/step - loss: 21.7230 - r_square_metric: 0.9822 - mean_squared_error: 21.7230 - val_loss: 94.7242 - val_r_square_metric: 0.9234 - val_mean_squared_error: 94.7241\n",
      "\n",
      "Epoch 00003: val_loss did not improve from 85.94176\n",
      "Epoch 4/40\n",
      "3727260/3727260 [==============================] - 158s 42us/step - loss: 25.0481 - r_square_metric: 0.9794 - mean_squared_error: 25.0481 - val_loss: 31.1770 - val_r_square_metric: 0.9760 - val_mean_squared_error: 31.1770\n",
      "\n",
      "Epoch 00019: val_loss did not improve from 24.87388\n",
      "Epoch 20/40\n",
      "3727260/3727260 [==============================] - 158s 42us/step - loss: 15.3033 - r_square_metric: 0.9870 - mean_squared_error: 15.3033 - val_loss: 30.7712 - val_r_square_metric: 0.9761 - val_mean_squared_error: 30.7711\n",
      "\n",
      "Epoch 00038: val_loss did not improve from 22.58045\n",
      "Epoch 39/40\n",
      " 252416/3727260 [=>............................] - ETA: 2:20 - loss: 10.0790 - r_square_metric: 0.9919 - mean_squared_error: 10.0790"
     ]
    }
   ],
   "source": [
    "# MolNet Advance\n",
    "callbacks_list = create_callback('molnn_advance.h5')\n",
    "model_dict_ad = {'inputs':37, 'outputs':1, 'hidden_layers': 6, 'hidden_layer_size':[256, 256, 128, 128, 64, 64],'dropout_rate':0.5}\n",
    "stats1 = train_network(modeldict=model_dict_ad,lr=0.001,callbacks=callbacks_list,\n",
    "                      training_data=[X_train.values,y_train.values],test_data=[X_test.values,y_test.values],model=None,epoch=40)"
   ]
  },
  {
   "cell_type": "code",
   "execution_count": 20,
   "metadata": {},
   "outputs": [
    {
     "data": {
      "image/png": "[encoded data removed]",
      "text/plain": [
       "<Figure size 432x432 with 1 Axes>"
      ]
     },
     "metadata": {
      "needs_background": "light"
     },
     "output_type": "display_data"
    }
   ],
   "source": [
    "model_performance_visualization(stats[0],'val_loss','loss',' MolNet Basic Validation Loss v/s Training Loss (1)')"
   ]
  },
  {
   "cell_type": "code",
   "execution_count": 21,
   "metadata": {},
   "outputs": [
    {
     "data": {
      "image/png": "[encoded data removed]",
      "text/plain": [
       "<Figure size 432x432 with 1 Axes>"
      ]
     },
     "metadata": {
      "needs_background": "light"
     },
     "output_type": "display_data"
    }
   ],
   "source": [
    "model_performance_visualization(stats1[0],'val_loss','loss','MolNet Advance Validation Loss v/s Training Loss (1)')"
   ]
  },
  {
   "cell_type": "code",
   "execution_count": 22,
   "metadata": {},
   "outputs": [
    {
     "ename": "TypeError",
     "evalue": "test_on_validation() missing 1 required positional argument: 'X_val'",
     "output_type": "error",
     "traceback": [
      "\u001b[0;31m---------------------------------------------------------------------------\u001b[0m",
      "\u001b[0;31mTypeError\u001b[0m                                 Traceback (most recent call last)",
      "\u001b[0;32m<ipython-input-22-f7afbe6c65d8>\u001b[0m in \u001b[0;36m<module>\u001b[0;34m\u001b[0m\n\u001b[1;32m      1\u001b[0m \u001b[0mmodel_dict_b\u001b[0m \u001b[0;34m=\u001b[0m \u001b[0;34m{\u001b[0m\u001b[0;34m'inputs'\u001b[0m\u001b[0;34m:\u001b[0m\u001b[0;36m37\u001b[0m\u001b[0;34m,\u001b[0m \u001b[0;34m'outputs'\u001b[0m\u001b[0;34m:\u001b[0m\u001b[0;36m1\u001b[0m\u001b[0;34m,\u001b[0m \u001b[0;34m'hidden_layers'\u001b[0m\u001b[0;34m:\u001b[0m \u001b[0;36m3\u001b[0m\u001b[0;34m,\u001b[0m \u001b[0;34m'hidden_layer_size'\u001b[0m\u001b[0;34m:\u001b[0m\u001b[0;34m[\u001b[0m\u001b[0;36m64\u001b[0m\u001b[0;34m,\u001b[0m \u001b[0;36m128\u001b[0m\u001b[0;34m,\u001b[0m \u001b[0;36m37\u001b[0m\u001b[0;34m]\u001b[0m\u001b[0;34m,\u001b[0m\u001b[0;34m'dropout_rate'\u001b[0m\u001b[0;34m:\u001b[0m\u001b[0;36m1.0\u001b[0m\u001b[0;34m}\u001b[0m\u001b[0;34m\u001b[0m\u001b[0m\n\u001b[0;32m----> 2\u001b[0;31m \u001b[0mmodel_b\u001b[0m \u001b[0;34m=\u001b[0m \u001b[0mtest_on_validation\u001b[0m\u001b[0;34m(\u001b[0m\u001b[0mmodel_path\u001b[0m\u001b[0;34m=\u001b[0m\u001b[0;34m'molnn_basic.h5'\u001b[0m\u001b[0;34m,\u001b[0m \u001b[0mtitle\u001b[0m\u001b[0;34m=\u001b[0m\u001b[0;34m'MolNN Basic with Dropout(1.0)'\u001b[0m\u001b[0;34m,\u001b[0m\u001b[0mmodel_dict\u001b[0m \u001b[0;34m=\u001b[0m \u001b[0mmodel_dict_b\u001b[0m\u001b[0;34m,\u001b[0m\u001b[0mstats\u001b[0m \u001b[0;34m=\u001b[0m \u001b[0mstats\u001b[0m\u001b[0;34m)\u001b[0m\u001b[0;34m\u001b[0m\u001b[0m\n\u001b[0m",
      "\u001b[0;31mTypeError\u001b[0m: test_on_validation() missing 1 required positional argument: 'X_val'"
     ]
    }
   ],
   "source": [
    "model_dict_b = {'inputs':37, 'outputs':1, 'hidden_layers': 3, 'hidden_layer_size':[64, 128, 37],'dropout_rate':1.0}\n",
    "model_b = test_on_validation(model_path='molnn_basic.h5', title='MolNN Basic with Dropout(1.0)',model_dict = model_dict_b,stats = stats)"
   ]
  },
  {
   "cell_type": "markdown",
   "metadata": {},
   "source": [
    "## --------------------------------------------------------------------------------------------------------------"
   ]
  },
  {
   "cell_type": "code",
   "execution_count": 23,
   "metadata": {},
   "outputs": [
    {
     "name": "stdout",
     "output_type": "stream",
     "text": [
      "R-square: 0.9815994645560764\n",
      "MSE: 22.410606878046327\n"
     ]
    },
    {
     "data": {
      "image/png": "[encoded data removed]",
      "text/plain": [
       "<Figure size 432x288 with 1 Axes>"
      ]
     },
     "metadata": {
      "needs_background": "light"
     },
     "output_type": "display_data"
    },
    {
     "data": {
      "text/plain": [
       "<keras.engine.training.Model at 0x7f0388242fd0>"
      ]
     },
     "execution_count": 23,
     "metadata": {},
     "output_type": "execute_result"
    }
   ],
   "source": [
    "# MolNet Advance\n",
    "test_on_validation(model_path='molnn_advance.h5', title='MolNN Advance with Dropout(0.5)',model_dict = model_dict_ad, stats=stats1, X_val = X_val.values)"
   ]
  },
  {
   "cell_type": "markdown",
   "metadata": {},
   "source": [
    "<hr>"
   ]
  },
  {
   "cell_type": "markdown",
   "metadata": {},
   "source": [
    "## 2. Transfer Learning and Feature Selection"
   ]
  },
  {
   "cell_type": "markdown",
   "metadata": {},
   "source": [
    "### MolNet Basic V1"
   ]
  },
  {
   "cell_type": "code",
   "execution_count": 24,
   "metadata": {},
   "outputs": [
    {
     "ename": "NameError",
     "evalue": "name 'model_b' is not defined",
     "output_type": "error",
     "traceback": [
      "\u001b[0;31m---------------------------------------------------------------------------\u001b[0m",
      "\u001b[0;31mNameError\u001b[0m                                 Traceback (most recent call last)",
      "\u001b[0;32m<ipython-input-24-92ea00596d9c>\u001b[0m in \u001b[0;36m<module>\u001b[0;34m\u001b[0m\n\u001b[1;32m      1\u001b[0m \u001b[0;31m# MolNet Basic V1\u001b[0m\u001b[0;34m\u001b[0m\u001b[0;34m\u001b[0m\u001b[0m\n\u001b[1;32m      2\u001b[0m \u001b[0mcallbacks_list\u001b[0m \u001b[0;34m=\u001b[0m \u001b[0mcreate_callback\u001b[0m\u001b[0;34m(\u001b[0m\u001b[0;34m'molnn_basic_v1.h5'\u001b[0m\u001b[0;34m)\u001b[0m\u001b[0;34m\u001b[0m\u001b[0m\n\u001b[0;32m----> 3\u001b[0;31m \u001b[0mn_model\u001b[0m\u001b[0;34m,\u001b[0m\u001b[0mmodel_dict_v1\u001b[0m \u001b[0;34m=\u001b[0m \u001b[0mtransfer_learning\u001b[0m\u001b[0;34m(\u001b[0m\u001b[0mmodel\u001b[0m\u001b[0;34m=\u001b[0m\u001b[0mmodel_b\u001b[0m\u001b[0;34m,\u001b[0m \u001b[0minput_size\u001b[0m\u001b[0;34m=\u001b[0m\u001b[0;36m6\u001b[0m\u001b[0;34m,\u001b[0m \u001b[0mmodel_dict\u001b[0m\u001b[0;34m=\u001b[0m\u001b[0mmodel_dict_b\u001b[0m\u001b[0;34m,\u001b[0m \u001b[0mfreeze_layer_start\u001b[0m \u001b[0;34m=\u001b[0m \u001b[0;36m5\u001b[0m\u001b[0;34m,\u001b[0m\u001b[0mprior\u001b[0m \u001b[0;34m=\u001b[0m \u001b[0;32mFalse\u001b[0m\u001b[0;34m)\u001b[0m\u001b[0;34m\u001b[0m\u001b[0m\n\u001b[0m\u001b[1;32m      4\u001b[0m stats_bv1 = train_network(modeldict=model_dict_b,lr=0.01,callbacks=callbacks_list,\n\u001b[1;32m      5\u001b[0m                           training_data=[X_train[geometric_features].values,y_train.values],test_data=[X_test[geometric_features].values,y_test.values],model=n_model,epoch=40)\n",
      "\u001b[0;31mNameError\u001b[0m: name 'model_b' is not defined"
     ]
    }
   ],
   "source": [
    "# MolNet Basic V1\n",
    "callbacks_list = create_callback('molnn_basic_v1.h5')\n",
    "n_model,model_dict_v1 = transfer_learning(model=model_b, input_size=6, model_dict=model_dict_b, freeze_layer_start = 5,prior = False)\n",
    "stats_bv1 = train_network(modeldict=model_dict_b,lr=0.01,callbacks=callbacks_list,\n",
    "                          training_data=[X_train[geometric_features].values,y_train.values],test_data=[X_test[geometric_features].values,y_test.values],model=n_model,epoch=40)"
   ]
  },
  {
   "cell_type": "markdown",
   "metadata": {},
   "source": [
    "for i in n_model.layers[5:-1]:\n",
    "    print(i.name)"
   ]
  },
  {
   "cell_type": "code",
   "execution_count": 25,
   "metadata": {},
   "outputs": [
    {
     "ename": "NameError",
     "evalue": "name 'stats_bv1' is not defined",
     "output_type": "error",
     "traceback": [
      "\u001b[0;31m---------------------------------------------------------------------------\u001b[0m",
      "\u001b[0;31mNameError\u001b[0m                                 Traceback (most recent call last)",
      "\u001b[0;32m<ipython-input-25-c0650e999330>\u001b[0m in \u001b[0;36m<module>\u001b[0;34m\u001b[0m\n\u001b[0;32m----> 1\u001b[0;31m \u001b[0mmodel_performance_visualization\u001b[0m\u001b[0;34m(\u001b[0m\u001b[0mstats_bv1\u001b[0m\u001b[0;34m[\u001b[0m\u001b[0;36m0\u001b[0m\u001b[0;34m]\u001b[0m\u001b[0;34m,\u001b[0m\u001b[0;34m'val_loss'\u001b[0m\u001b[0;34m,\u001b[0m\u001b[0;34m'loss'\u001b[0m\u001b[0;34m,\u001b[0m\u001b[0;34m' MolNet Basic V1 Validation Loss v/s Training Loss (1)'\u001b[0m\u001b[0;34m)\u001b[0m\u001b[0;34m\u001b[0m\u001b[0m\n\u001b[0m",
      "\u001b[0;31mNameError\u001b[0m: name 'stats_bv1' is not defined"
     ]
    }
   ],
   "source": [
    "model_performance_visualization(stats_bv1[0],'val_loss','loss',' MolNet Basic V1 Validation Loss v/s Training Loss (1)')"
   ]
  },
  {
   "cell_type": "code",
   "execution_count": 26,
   "metadata": {},
   "outputs": [
    {
     "ename": "NameError",
     "evalue": "name 'model_dict_v1' is not defined",
     "output_type": "error",
     "traceback": [
      "\u001b[0;31m---------------------------------------------------------------------------\u001b[0m",
      "\u001b[0;31mNameError\u001b[0m                                 Traceback (most recent call last)",
      "\u001b[0;32m<ipython-input-26-a409c32d0b1a>\u001b[0m in \u001b[0;36m<module>\u001b[0;34m\u001b[0m\n\u001b[0;32m----> 1\u001b[0;31m test_on_validation(model_path='molnn_basic_v1.h5', title='MolNN Basic V1 with Dropout(1.0)',model_dict = model_dict_v1, \n\u001b[0m\u001b[1;32m      2\u001b[0m                    stats = stats_bv1, X_val = X_val[geometric_features].values)\n",
      "\u001b[0;31mNameError\u001b[0m: name 'model_dict_v1' is not defined"
     ]
    }
   ],
   "source": [
    "test_on_validation(model_path='molnn_basic_v1.h5', title='MolNN Basic V1 with Dropout(1.0)',model_dict = model_dict_v1, \n",
    "                   stats = stats_bv1, X_val = X_val[geometric_features].values)"
   ]
  },
  {
   "cell_type": "markdown",
   "metadata": {},
   "source": [
    "## MolNN Advance V1\n",
    "\n",
    "This model architecture is simiral to that of MolNN Advance with the difference in dropout rate i.e. 1.0 instead of 0.5"
   ]
  },
  {
   "cell_type": "code",
   "execution_count": 27,
   "metadata": {},
   "outputs": [
    {
     "name": "stdout",
     "output_type": "stream",
     "text": [
      "Train on 3727260 samples, validate on 465908 samples\n",
      "Epoch 1/40\n",
      "3727260/3727260 [==============================] - 138s 37us/step - loss: 0.7084 - r_square_metric: 0.9994 - mean_squared_error: 0.7084 - val_loss: 0.0665 - val_r_square_metric: 1.0000 - val_mean_squared_error: 0.0665\n",
      "\n",
      "Epoch 00001: val_loss improved from inf to 0.06650, saving model to molnn_advance_v1.h5\n",
      "Epoch 2/40\n",
      "3727260/3727260 [==============================] - 137s 37us/step - loss: 0.0636 - r_square_metric: 1.0000 - mean_squared_error: 0.0636 - val_loss: 0.0053 - val_r_square_metric: 1.0000 - val_mean_squared_error: 0.0053\n",
      "\n",
      "Epoch 00002: val_loss improved from 0.06650 to 0.00530, saving model to molnn_advance_v1.h5\n",
      "Epoch 3/40\n",
      "3727260/3727260 [==============================] - 137s 37us/step - loss: 0.0363 - r_square_metric: 1.0000 - mean_squared_error: 0.0363 - val_loss: 0.0010 - val_r_square_metric: 1.0000 - val_mean_squared_error: 0.0010\n",
      "\n",
      "Epoch 00003: val_loss improved from 0.00530 to 0.00102, saving model to molnn_advance_v1.h5\n",
      "Epoch 4/40\n",
      "3727260/3727260 [==============================] - 137s 37us/step - loss: 0.0277 - r_square_metric: 1.0000 - mean_squared_error: 0.0277 - val_loss: 8.4098e-04 - val_r_square_metric: 1.0000 - val_mean_squared_error: 8.4098e-04\n",
      "\n",
      "Epoch 00004: val_loss improved from 0.00102 to 0.00084, saving model to molnn_advance_v1.h5\n",
      "Epoch 5/40\n",
      "3727260/3727260 [==============================] - 138s 37us/step - loss: 5.0176e-04 - r_square_metric: 1.0000 - mean_squared_error: 5.0176e-04 - val_loss: 3.8441e-05 - val_r_square_metric: 1.0000 - val_mean_squared_error: 3.8441e-05\n",
      "\n",
      "Epoch 00018: val_loss did not improve from 0.00001\n",
      "Epoch 19/40\n",
      "3727260/3727260 [==============================] - 137s 37us/step - loss: 2.6479e-06 - r_square_metric: 1.0000 - mean_squared_error: 2.6479e-06 - val_loss: 2.7392e-06 - val_r_square_metric: 1.0000 - val_mean_squared_error: 2.7392e-06\n",
      "\n",
      "Epoch 00040: val_loss did not improve from 0.00000\n"
     ]
    }
   ],
   "source": [
    "# Modified Model\n",
    "callbacks_list = create_callback('molnn_advance_v1.h5')\n",
    "model_dict_ad['dropout_rate'] = 1.0\n",
    "stats2 = train_network(modeldict=model_dict_ad,lr=0.001,callbacks=callbacks_list,\n",
    "                      training_data=[X_train.values,y_train.values],test_data=[X_test.values,y_test.values],model=None,epoch=40)"
   ]
  },
  {
   "cell_type": "code",
   "execution_count": 28,
   "metadata": {},
   "outputs": [
    {
     "data": {
      "image/png": "[encoded data removed]",
      "text/plain": [
       "<Figure size 432x432 with 1 Axes>"
      ]
     },
     "metadata": {
      "needs_background": "light"
     },
     "output_type": "display_data"
    }
   ],
   "source": [
    "model_performance_visualization(stats2[0],'val_loss','loss','Validation Loss v/s Training Loss (1)')"
   ]
  },
  {
   "cell_type": "code",
   "execution_count": 29,
   "metadata": {},
   "outputs": [
    {
     "name": "stdout",
     "output_type": "stream",
     "text": [
      "R-square: 0.9999999987682222\n",
      "MSE: 1.5002220018781118e-06\n"
     ]
    },
    {
     "data": {
      "image/png": "[encoded data removed]",
      "text/plain": [
       "<Figure size 432x288 with 1 Axes>"
      ]
     },
     "metadata": {
      "needs_background": "light"
     },
     "output_type": "display_data"
    }
   ],
   "source": [
    "model_b = test_on_validation(model_path='molnn_advance_v1.h5', title='MolNet Advance V1  with Dropout(1.0)',\n",
    "                             model_dict = model_dict_ad, stats=stats2, X_val=X_val)"
   ]
  },
  {
   "cell_type": "code",
   "execution_count": 30,
   "metadata": {},
   "outputs": [],
   "source": [
    "pearson_features = ['atom_index_1','YYmag_1','XXmag_1','ZZmag_1','atom1_0','sd','mulliken_charge_1','dso','type','atom_index_0','atom1_1','atom_0']"
   ]
  },
  {
   "cell_type": "code",
   "execution_count": 31,
   "metadata": {},
   "outputs": [
    {
     "name": "stdout",
     "output_type": "stream",
     "text": [
      "{'inputs': 12, 'outputs': 1, 'hidden_layers': 6, 'hidden_layer_size': [256, 256, 128, 128, 64, 64], 'dropout_rate': 1.0}\n",
      "Model: \"model_6\"\n",
      "_________________________________________________________________\n",
      "Layer (type)                 Output Shape              Param #   \n",
      "=================================================================\n",
      "input_layer (InputLayer)     (None, 12)                0         \n",
      "_________________________________________________________________\n",
      "dense_layer_0 (Dense)        (None, 256)               3328      \n",
      "_________________________________________________________________\n",
      "Dropout_layer_1 (Dropout)    (None, 256)               0         \n",
      "_________________________________________________________________\n",
      "dense_layer_1 (Dense)        (None, 256)               65792     \n",
      "_________________________________________________________________\n",
      "Dropout_layer_2 (Dropout)    (None, 256)               0         \n",
      "_________________________________________________________________\n",
      "dense_layer_2 (Dense)        (None, 128)               32896     \n",
      "_________________________________________________________________\n",
      "Dropout_layer_3 (Dropout)    (None, 128)               0         \n",
      "_________________________________________________________________\n",
      "dense_layer_3 (Dense)        (None, 128)               16512     \n",
      "_________________________________________________________________\n",
      "Dropout_layer_4 (Dropout)    (None, 128)               0         \n",
      "_________________________________________________________________\n",
      "dense_layer_4 (Dense)        (None, 64)                8256      \n",
      "_________________________________________________________________\n",
      "Dropout_layer_5 (Dropout)    (None, 64)                0         \n",
      "_________________________________________________________________\n",
      "dense_layer_5 (Dense)        (None, 64)                4160      \n",
      "_________________________________________________________________\n",
      "output_layer (Dense)         (None, 1)                 65        \n",
      "=================================================================\n",
      "Total params: 131,009\n",
      "Trainable params: 118,593\n",
      "Non-trainable params: 12,416\n",
      "_________________________________________________________________\n",
      "None\n",
      "Train on 3727260 samples, validate on 465908 samples\n",
      "Epoch 1/40\n",
      "3727260/3727260 [==============================] - 240s 64us/step - loss: 26.9088 - r_square_metric: 0.9766 - mean_squared_error: 26.9087 - val_loss: 20.0347 - val_r_square_metric: 0.9820 - val_mean_squared_error: 20.0347\n",
      "\n",
      "Epoch 00001: val_loss improved from inf to 20.03467, saving model to molnn_advance_v1.1.h5\n",
      "Epoch 2/40\n",
      "3727260/3727260 [==============================] - 240s 64us/step - loss: 21.5449 - r_square_metric: 0.9810 - mean_squared_error: 21.5448 - val_loss: 20.2005 - val_r_square_metric: 0.9819 - val_mean_squared_error: 20.2005\n",
      "\n",
      "Epoch 00002: val_loss did not improve from 20.03467\n",
      "Epoch 3/40\n",
      "3727260/3727260 [==============================] - 239s 64us/step - loss: 23.0582 - r_square_metric: 0.9793 - mean_squared_error: 23.0582 - val_loss: 22.4548 - val_r_square_metric: 0.9799 - val_mean_squared_error: 22.4547\n",
      "\n",
      "Epoch 00009: val_loss did not improve from 20.03467\n",
      "Epoch 10/40\n",
      " 309440/3727260 [=>............................] - ETA: 3:26 - loss: 23.1794 - r_square_metric: 0.9794 - mean_squared_error: 23.1794"
     ]
    }
   ],
   "source": [
    "# New Model with different input neurons by fine tuning Upper layers\n",
    "callbacks_list = create_callback('molnn_advance_v1.1.h5')\n",
    "n_model,model_dict_adv1 = transfer_learning(model=model_b, input_size=len(pearson_features), model_dict=model_dict_ad, freeze_layer_start = -4,is_trainable=False)\n",
    "stats_adv1 = train_network(modeldict=model_dict_adv1,training_data=[X_train[pearson_features].values,y_train.values], epoch=40,lr=0.01,\n",
    "                       test_data=[X_test[pearson_features].values,y_test.values],model=n_model,batch_size=64,callbacks = callbacks_list)"
   ]
  },
  {
   "cell_type": "code",
   "execution_count": 32,
   "metadata": {},
   "outputs": [
    {
     "data": {
      "image/png": "[encoded data removed]",
      "text/plain": [
       "<Figure size 432x432 with 1 Axes>"
      ]
     },
     "metadata": {
      "needs_background": "light"
     },
     "output_type": "display_data"
    }
   ],
   "source": [
    "model_performance_visualization(stats_adv1[0],'val_loss','loss','Validation Loss v/s Training Loss (1)')"
   ]
  },
  {
   "cell_type": "code",
   "execution_count": 33,
   "metadata": {},
   "outputs": [
    {
     "name": "stdout",
     "output_type": "stream",
     "text": [
      "R-square: 0.984348805577459\n",
      "MSE: 19.06209558109719\n"
     ]
    },
    {
     "data": {
      "image/png": "[encoded data removed]",
      "text/plain": [
       "<Figure size 432x288 with 1 Axes>"
      ]
     },
     "metadata": {
      "needs_background": "light"
     },
     "output_type": "display_data"
    }
   ],
   "source": [
    "model_b = test_on_validation(model_path='molnn_advance_v1.1.h5', \n",
    "                             title='MolNet Advance V1.1 with Dropout(1.0)',model_dict = model_dict_adv1, stats=stats_adv1,\n",
    "                             X_val = X_val[pearson_features].values)"
   ]
  }
 ],
 "metadata": {
  "kernelspec": {
   "display_name": "Python 3",
   "language": "python",
   "name": "python3"
  },
  "language_info": {
   "codemirror_mode": {
    "name": "ipython",
    "version": 3
   },
   "file_extension": ".py",
   "mimetype": "text/x-python",
   "name": "python",
   "nbconvert_exporter": "python",
   "pygments_lexer": "ipython3",
   "version": "3.6.6"
  }
 },
 "nbformat": 4,
 "nbformat_minor": 4
}
